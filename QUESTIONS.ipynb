{
 "cells": [
  {
   "cell_type": "markdown",
   "id": "d7677580-f471-4526-8740-d9468767982d",
   "metadata": {},
   "source": [
    "# BASIC QUESTIONS :"
   ]
  },
  {
   "cell_type": "markdown",
   "id": "9b08add0-0ece-40a7-b0cd-903962a2cb45",
   "metadata": {},
   "source": [
    "###### "
   ]
  },
  {
   "cell_type": "markdown",
   "id": "b5f3f457-e304-452f-a8dd-66e58494f651",
   "metadata": {},
   "source": [
    "#### UNION , INTERSECTION , DIFFERENCE (LIST BUT OUTPUT IN SET):"
   ]
  },
  {
   "cell_type": "code",
   "execution_count": 11,
   "id": "f51aa21c-3df1-489b-afa1-66f5a41a6d36",
   "metadata": {},
   "outputs": [
    {
     "name": "stdout",
     "output_type": "stream",
     "text": [
      "a =  {1, 2, 3, 4, 5, 6, 7, 8, 9, 10}\n",
      "b =  {5, 6, 7}\n",
      "c =  {1, 2, 3, 4}\n"
     ]
    }
   ],
   "source": [
    "list1=[1,2,3,4,5,6,7]\n",
    "list2=[5,6,7,8,9,10]\n",
    "a= (set(list1) | set(list2))\n",
    "b= (set(list1) & set(list2))\n",
    "c= (set(list1) - set(list2))\n",
    "print(\"a = \",a)\n",
    "print(\"b = \",b)\n",
    "print(\"c = \",c)"
   ]
  },
  {
   "cell_type": "markdown",
   "id": "785d8f75-b8e9-4446-882e-e10308cd603c",
   "metadata": {},
   "source": [
    "#### (MIN , MAX , SUM , LEN) OF SETS"
   ]
  },
  {
   "cell_type": "code",
   "execution_count": 28,
   "id": "eb3b4c34-0a82-4e7e-93ec-9adddaaa1ec4",
   "metadata": {},
   "outputs": [
    {
     "name": "stdout",
     "output_type": "stream",
     "text": [
      " Min From Sets    :  0\n",
      " Max From Sets    :  77\n",
      " Sum of 3 Sets    :  363\n",
      " Length of set(a) :  10\n",
      " Length of set(b) :  3\n",
      " Length of set(c) :  5\n"
     ]
    }
   ],
   "source": [
    "a =  {1, 2, 3, 4, 5, 6, 7, 8, 9, 10}\n",
    "b =  {55, 66, 77}\n",
    "c =  {0, 11, 22, 33, 44}\n",
    "\n",
    "d= min(a|b|c)\n",
    "e= max(a|b|c)\n",
    "f= sum(a|b|c)\n",
    "g= len(a)\n",
    "h= len(b)\n",
    "i= len(c)\n",
    "print(\" Min From Sets    : \" , d)\n",
    "print(\" Max From Sets    : \" , e)\n",
    "print(\" Sum of 3 Sets    : \" , f)\n",
    "print(\" Length of set(a) : \" , g)\n",
    "print(\" Length of set(b) : \" , h)\n",
    "print(\" Length of set(c) : \" , i)"
   ]
  },
  {
   "cell_type": "markdown",
   "id": "0d189d6a-6bf3-47af-9bf2-646905bd55f2",
   "metadata": {},
   "source": [
    "#### ADDING A ELEMENT TO A SET:"
   ]
  },
  {
   "cell_type": "code",
   "execution_count": 44,
   "id": "3abff01f-fa0d-4d2a-9e6e-6ce998b9d85d",
   "metadata": {},
   "outputs": [
    {
     "name": "stdout",
     "output_type": "stream",
     "text": [
      "{0, 33, 1, 22, 11, 44}\n"
     ]
    }
   ],
   "source": [
    "a =  {0, 11, 22, 33, 44}\n",
    "a.add(1)\n",
    "print(a)"
   ]
  },
  {
   "cell_type": "code",
   "execution_count": 41,
   "id": "c80803ff-70d9-43d3-a1bb-18376e6e7562",
   "metadata": {},
   "outputs": [
    {
     "name": "stdout",
     "output_type": "stream",
     "text": [
      "{'apple', 'banana', 'orange', 'cherry'}\n"
     ]
    }
   ],
   "source": [
    "thisset = {\"apple\", \"banana\", \"cherry\"}\n",
    "thisset.add(\"orange\")\n",
    "print(thisset)"
   ]
  },
  {
   "cell_type": "markdown",
   "id": "3677d8ef-effa-4d15-a001-8a64097208be",
   "metadata": {},
   "source": [
    "#### ADDING MULTIPLE ELEMENT IN SET :"
   ]
  },
  {
   "cell_type": "code",
   "execution_count": 46,
   "id": "5a6f7701-762e-403b-adb4-25f75a8fa1c3",
   "metadata": {},
   "outputs": [
    {
     "name": "stdout",
     "output_type": "stream",
     "text": [
      "{0, 1, 2, 67, 5, 6, 10, 11, 78, 22, 33, 44, 45, 56}\n"
     ]
    }
   ],
   "source": [
    "a =  {0, 11, 22, 33, 44}\n",
    "a.update((10,2,45,67,1,56,78,6,5))\n",
    "print(a)"
   ]
  },
  {
   "cell_type": "markdown",
   "id": "33e2cc21-e890-4553-8eff-c06e6354084f",
   "metadata": {},
   "source": [
    "#### REMOVING AN ELEMENT :"
   ]
  },
  {
   "cell_type": "code",
   "execution_count": 1,
   "id": "238714ea-43e7-41c7-80eb-b8447bff2afe",
   "metadata": {},
   "outputs": [
    {
     "name": "stdout",
     "output_type": "stream",
     "text": [
      "{1, 2, 67, 33, 5, 6, 10, 11, 44, 45, 78, 22, 56}\n"
     ]
    }
   ],
   "source": [
    "a={0, 1, 2, 67, 5, 6, 10, 11, 78, 22, 33, 44, 45, 56}\n",
    "a.remove(0)\n",
    "print(a)\n",
    "\n",
    "# we can remove only one element"
   ]
  },
  {
   "cell_type": "markdown",
   "id": "d57d382d-2e20-4559-9741-6bdef2eee094",
   "metadata": {},
   "source": [
    "##### TUPLE FUNCTION :"
   ]
  },
  {
   "cell_type": "markdown",
   "id": "2989431c-e98c-4b30-bfe9-8e1b00eefd60",
   "metadata": {},
   "source": [
    "### Zip Function : \n",
    "It is used to create a list consisting of tuples"
   ]
  },
  {
   "cell_type": "code",
   "execution_count": 10,
   "id": "59178694-125f-40e3-ab74-38ebcca1b6fd",
   "metadata": {},
   "outputs": [
    {
     "name": "stdout",
     "output_type": "stream",
     "text": [
      "[('SNWP', 'CO-1'), ('AD-2', 'CO-2'), ('ALA', 'CO-3'), ('COA', 'CO-4'), ('UHV', 'CO-5')]\n"
     ]
    }
   ],
   "source": [
    "course =('SNWP', 'AD-2', 'ALA' , 'COA' , 'UHV') \n",
    "course_code = ('CO-1' , 'CO-2' , 'CO-3' , 'CO-4' , 'CO-5')\n",
    "c=list(zip(course,course_code))\n",
    "print(c)"
   ]
  },
  {
   "cell_type": "markdown",
   "id": "473d90b2-ea6c-47f1-8538-8bee2060c848",
   "metadata": {},
   "source": [
    "#### CONCADINATION OF LIST :"
   ]
  },
  {
   "cell_type": "code",
   "execution_count": 14,
   "id": "f315da9e-f56e-42da-9384-8f74078ce6b3",
   "metadata": {},
   "outputs": [
    {
     "name": "stdout",
     "output_type": "stream",
     "text": [
      "[10, 20, 30, 40, 45, 258, 1, 78, 46, 52, 49]\n"
     ]
    }
   ],
   "source": [
    "a=[10,20,30,40,45]\n",
    "b=[258,1,78,46,52,49]\n",
    "c=a+b\n",
    "print(c)"
   ]
  }
 ],
 "metadata": {
  "kernelspec": {
   "display_name": "Python 3 (ipykernel)",
   "language": "python",
   "name": "python3"
  },
  "language_info": {
   "codemirror_mode": {
    "name": "ipython",
    "version": 3
   },
   "file_extension": ".py",
   "mimetype": "text/x-python",
   "name": "python",
   "nbconvert_exporter": "python",
   "pygments_lexer": "ipython3",
   "version": "3.11.5"
  }
 },
 "nbformat": 4,
 "nbformat_minor": 5
}
